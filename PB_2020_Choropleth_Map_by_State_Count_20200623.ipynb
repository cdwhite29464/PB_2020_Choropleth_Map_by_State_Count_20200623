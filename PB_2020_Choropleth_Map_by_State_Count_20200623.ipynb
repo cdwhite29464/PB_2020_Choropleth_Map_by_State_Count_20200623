{
 "cells": [
  {
   "cell_type": "code",
   "execution_count": 1,
   "metadata": {},
   "outputs": [],
   "source": [
    "from datetime import datetime\n",
    "from datetime import datetime\n",
    "import numpy as np\n",
    "import pandas as pd\n",
    "pd.set_option('display.max_rows', 500)"
   ]
  },
  {
   "cell_type": "code",
   "execution_count": 2,
   "metadata": {},
   "outputs": [],
   "source": [
    "import seaborn as sns\n",
    "import matplotlib.pyplot as plt\n",
    "#%matplotlib inline"
   ]
  },
  {
   "cell_type": "code",
   "execution_count": 3,
   "metadata": {},
   "outputs": [
    {
     "data": {
      "text/html": [
       "        <script type=\"text/javascript\">\n",
       "        window.PlotlyConfig = {MathJaxConfig: 'local'};\n",
       "        if (window.MathJax) {MathJax.Hub.Config({SVG: {font: \"STIX-Web\"}});}\n",
       "        if (typeof require !== 'undefined') {\n",
       "        require.undef(\"plotly\");\n",
       "        requirejs.config({\n",
       "            paths: {\n",
       "                'plotly': ['https://cdn.plot.ly/plotly-latest.min']\n",
       "            }\n",
       "        });\n",
       "        require(['plotly'], function(Plotly) {\n",
       "            window._Plotly = Plotly;\n",
       "        });\n",
       "        }\n",
       "        </script>\n",
       "        "
      ]
     },
     "metadata": {},
     "output_type": "display_data"
    }
   ],
   "source": [
    "import chart_studio.plotly as py\n",
    "import plotly.graph_objs as go\n",
    "from plotly.offline import download_plotlyjs,init_notebook_mode,plot,iplot\n",
    "init_notebook_mode(connected=True)"
   ]
  },
  {
   "cell_type": "markdown",
   "metadata": {},
   "source": [
    "# Scrap Data From The Github Site (Link Below)"
   ]
  },
  {
   "cell_type": "markdown",
   "metadata": {},
   "source": [
    "Github Data API - https://raw.githubusercontent.com/2020PB/police-brutality/data_build/all-locations.json\n",
    "Github Repository of Police Brutality - https://github.com/2020PB/police-brutality/blob/master/README.md"
   ]
  },
  {
   "cell_type": "code",
   "execution_count": 4,
   "metadata": {},
   "outputs": [],
   "source": [
    "pb_data_raw = pd.read_json(r'https://raw.githubusercontent.com/2020PB/police-brutality/data_build/all-locations.json')"
   ]
  },
  {
   "cell_type": "markdown",
   "metadata": {},
   "source": [
    "# Set data up into proper matrix format "
   ]
  },
  {
   "cell_type": "code",
   "execution_count": 5,
   "metadata": {},
   "outputs": [],
   "source": [
    "# creates a dictionary from the List of Data Frame Names (Keys) and the Data Frame Files (Values) themselves\n",
    "dict_of_pb_dfs = {}\n",
    "\n",
    "for pb_record_idex_num in range(0,len(pb_data_raw['data'])): \n",
    "    globals()[\"pb_df_{}\".format(pb_record_idex_num)]  = pd.DataFrame(pb_data_raw['data'][pb_record_idex_num])\n",
    "    dict_of_pb_dfs[\"pb_df_{}\".format(pb_record_idex_num)] = globals()[\"pb_df_{}\".format(pb_record_idex_num)]\n",
    "    \n",
    "# Reduces the record numbers to 1 per incident in each data frame\n",
    "for pb_df in dict_of_pb_dfs.keys():\n",
    "    num_count = len(dict_of_pb_dfs[pb_df])-1\n",
    "    while num_count > 0:\n",
    "        dict_of_pb_dfs[pb_df].drop(num_count, inplace = True)\n",
    "        num_count -= 1\n",
    "        \n",
    "# Concatenate the individual data frames into one dataframe with all the incident data (one link/record per incident)\n",
    "list_of_values = list(dict_of_pb_dfs.values())\n",
    "pd_consolidated = pd.concat(list_of_values, sort = True)\n",
    "pd_consolidated['incident_value'] = 1\n",
    "\n"
   ]
  },
  {
   "cell_type": "markdown",
   "metadata": {},
   "source": [
    "# Geographical Plotting"
   ]
  },
  {
   "cell_type": "code",
   "execution_count": 6,
   "metadata": {},
   "outputs": [],
   "source": [
    "# create a ditionary of State Names and Abbreviations\n",
    "us_state_abbrev = {\n",
    "    'Alabama': 'AL',\n",
    "    'Alaska': 'AK',\n",
    "    'American Samoa': 'AS',\n",
    "    'Arizona': 'AZ',\n",
    "    'Arkansas': 'AR',\n",
    "    'California': 'CA',\n",
    "    'Colorado': 'CO',\n",
    "    'Connecticut': 'CT',\n",
    "    'Delaware': 'DE',\n",
    "    'District of Columbia': 'dc',\n",
    "    'Washington DC': 'DC',\n",
    "    'Florida': 'FL',\n",
    "    'Georgia': 'GA',\n",
    "    'Guam': 'GU',\n",
    "    'Hawaii': 'HI',\n",
    "    'Idaho': 'ID',\n",
    "    'Illinois': 'IL',\n",
    "    'Indiana': 'IN',\n",
    "    'Iowa': 'IA',\n",
    "    'Kansas': 'KS',\n",
    "    'Kentucky': 'KY',\n",
    "    'Louisiana': 'LA',\n",
    "    'Maine': 'ME',\n",
    "    'Maryland': 'MD',\n",
    "    'Massachusetts': 'MA',\n",
    "    'Michigan': 'MI',\n",
    "    'Minnesota': 'MN',\n",
    "    'Mississippi': 'MS',\n",
    "    'Missouri': 'MO',\n",
    "    'Montana': 'MT',\n",
    "    'Nebraska': 'NE',\n",
    "    'Nevada': 'NV',\n",
    "    'New Hampshire': 'NH',\n",
    "    'New Jersey': 'NJ',\n",
    "    'New Mexico': 'NM',\n",
    "    'New York': 'NY',\n",
    "    'North Carolina': 'NC',\n",
    "    'North Dakota': 'ND',\n",
    "    'Northern Mariana Islands':'MP',\n",
    "    'Ohio': 'OH',\n",
    "    'Oklahoma': 'OK',\n",
    "    'Oregon': 'OR',\n",
    "    'Pennsylvania': 'PA',\n",
    "    'Puerto Rico': 'PR',\n",
    "    'Rhode Island': 'RI',\n",
    "    'South Carolina': 'SC',\n",
    "    'South Dakota': 'SD',\n",
    "    'Tennessee': 'TN',\n",
    "    'Texas': 'TX',\n",
    "    'Utah': 'UT',\n",
    "    'Vermont': 'VT',\n",
    "    'Virgin Islands': 'VI',\n",
    "    'Virginia': 'VA',\n",
    "    'Washington': 'WA',\n",
    "    'West Virginia': 'WV',\n",
    "    'Wisconsin': 'WI',\n",
    "    'Wyoming': 'WY'   \n",
    "}\n",
    "abbrev_us_state = dict(map(reversed, us_state_abbrev.items()))\n",
    "\n",
    "date_text = '2020-06-23'\n",
    "pd_consolidated = pd_consolidated[pd_consolidated['date'] == date_text]\n",
    "pd_consolidated_pre_zeros = pd_consolidated\n",
    "\n",
    "pb_state_list = np.array(list(pd_consolidated['state']))\n",
    "blank_state = {}\n",
    "for state in us_state_abbrev.keys():\n",
    "    #print(state)\n",
    "    \n",
    "    if state in pb_state_list:\n",
    "        #print('In List\\n')\n",
    "        pass\n",
    "    else:\n",
    "        #print('\\tNOT IN LIST')\n",
    "        blank_state[state] = {}\n",
    "        record_input = pd.DataFrame(index = [0],columns = ['city','date','date_text','edit_at', 'id', 'links','name','state','incident_value'])\n",
    "        record_input.xs(0)['state']=state\n",
    "        record_input.xs(0)['incident_value']=0\n",
    "        globals()[\"{}\".format(state)]  = record_input\n",
    "        blank_state[\"{}\".format(state)] = globals()[\"{}\".format(state)]\n",
    "        pd_consolidated = pd.concat([blank_state['{}'.format(state)],pd_consolidated])\n"
   ]
  },
  {
   "cell_type": "code",
   "execution_count": 7,
   "metadata": {},
   "outputs": [],
   "source": [
    "by_state = pd_consolidated.groupby('state')\n",
    "by_state_sum_incidents = by_state.sum()\n",
    "\n",
    "pb_state_abbreviation_code_list = []\n",
    "for state in by_state_sum_incidents['incident_value'].index:\n",
    "    if state in list(us_state_abbrev.keys()):\n",
    "        pb_state_abbreviation_code_list.append(us_state_abbrev[state])\n",
    "#     elif state == 'Washington DC':\n",
    "#         pb_state_abbreviation_code_list.append(\"DC\")\n",
    "    else:\n",
    "        pb_state_abbreviation_code_list.append(\"Unknown Location\")\n",
    "\n",
    "        \n",
    "# Set up dictionary for the Plotly Map Text      \n",
    "dict_of_incident_names = {}\n",
    "\n",
    "for state in by_state_sum_incidents['incident_value'].keys():\n",
    "    #print(state)\n",
    "    dict_of_incident_names[state] = {}\n",
    "    pb_query = pd_consolidated['state'] == state\n",
    "    #print(pd_consolidated[pb_query]['links'])\n",
    "    dict_of_incident_names[state] = pd_consolidated[pb_query]['name']\n",
    "\n",
    "array_pb_incident_names = np.array(list(dict_of_incident_names.values()))\n",
    "\n",
    "\n",
    "# Set up data for Plotly Map\n",
    "data = dict(type = 'choropleth',\n",
    "           colorscale = 'greys',\n",
    "           locations = pb_state_abbreviation_code_list,\n",
    "           locationmode = 'USA-states',\n",
    "           z = by_state_sum_incidents['incident_value'].values,\n",
    "           text = np.array(list(pd_consolidated['state'])),\n",
    "            hovertext = array_pb_incident_names,\n",
    "            hoverinfo = \"all\",\n",
    "            #hovertemplate = \"%{hovertext} <extra>%{location} <br> Number of Incidents: %{z}</extra>\",\n",
    "            #hovertemplate = \"https://github.com/2020PB/police-brutality/blob/master/reports/%{text}.md <extra>%{location} - Number of Incidents: %{z} </extra>\",\n",
    "            #hovertemplate = \"<a href=\\\"https://github.com/2020PB/police-brutality/blob/master/reports/%{text}.md\\\">link to github</a> <extra>%{location} - Number of Incidents: %{z} </extra>\",\n",
    "            #hovertemplate = \"%{location} <br> Number of Incidents: %{z} <extra>%{hovertext}</extra>\",\n",
    "            #hovertemplate = \"%{location} <br> Number of Incidents: %{z} <extra>https://github.com/2020PB/police-brutality/blob/master/reports/%{text}.md</extra>\",\n",
    "            hovertemplate = \"%{location} <br> Number of Incidents: %{z} <extra></extra>\",\n",
    "            marker = dict(line = dict(color = 'rgb(65,65,65)',width = 1)),\n",
    "           colorbar = {'title': 'Police Brutality Incident Counts'}\n",
    "           )\n",
    "#Title Variable\n",
    "by_date = pd_consolidated.groupby('date')\n",
    "by_date_sum_incidents = by_date.sum()\n",
    "\n",
    "# datetime object containing current date and time\n",
    "now = datetime.now()\n",
    "# dd/mm/YY H:M:S\n",
    "dt_string = now.strftime(\"%m/%d/%Y %H:%M:%S\")\n",
    "\n",
    "title_of_layout = \"2020 Police Brutality: {} Incidents Captured on Video<br>Data from {}<br>Date Created: {} MST\".format(len(pd_consolidated_pre_zeros),date_text,dt_string)\n",
    "\n",
    "# Set up Layout for Plotly Map\n",
    "layout = dict(title = title_of_layout,\n",
    "             geo = dict(scope = 'usa'))\n",
    "\n",
    "# Call Plotly Map and set it as a variable\n",
    "choromap_pb2020 = go.Figure(data = [data], layout = layout)\n",
    "\n",
    "choromap_pb2020.update_layout(\n",
    "    hoverlabel=dict(\n",
    "        bgcolor=\"black\", \n",
    "        font_size=12, \n",
    "        font_family=\"Rockwell\"\n",
    "    )\n",
    ")\n",
    "# Save html\n",
    "choromap_pb2020.write_html(r\"C:\\Users\\cdwhi\\Documents\\Python\\My_Code\\Police_Brutality_2020\\PB_2020_Choropleth_Map_by_State_Count_20200623\\index.html\")\n",
    "\n",
    "# Plot the Map\n",
    "#plot(choromap_pb2020)"
   ]
  },
  {
   "cell_type": "code",
   "execution_count": null,
   "metadata": {},
   "outputs": [],
   "source": []
  },
  {
   "cell_type": "code",
   "execution_count": null,
   "metadata": {},
   "outputs": [],
   "source": []
  },
  {
   "cell_type": "code",
   "execution_count": null,
   "metadata": {},
   "outputs": [],
   "source": []
  },
  {
   "cell_type": "code",
   "execution_count": null,
   "metadata": {},
   "outputs": [],
   "source": []
  }
 ],
 "metadata": {
  "kernelspec": {
   "display_name": "Python 3",
   "language": "python",
   "name": "python3"
  },
  "language_info": {
   "codemirror_mode": {
    "name": "ipython",
    "version": 3
   },
   "file_extension": ".py",
   "mimetype": "text/x-python",
   "name": "python",
   "nbconvert_exporter": "python",
   "pygments_lexer": "ipython3",
   "version": "3.7.1"
  }
 },
 "nbformat": 4,
 "nbformat_minor": 2
}
